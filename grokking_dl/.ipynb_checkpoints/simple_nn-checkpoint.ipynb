{
 "cells": [
  {
   "cell_type": "code",
   "execution_count": 10,
   "id": "4d8c36a2",
   "metadata": {},
   "outputs": [],
   "source": [
    "# The very first neural network with just one weight used for prediction\n",
    "\n",
    "weight = 0.1 # prediction depends on the number of toes only\n",
    "\n",
    "def first_neural_network(input, weight):\n",
    "    prediction = input * weight\n",
    "    return prediction"
   ]
  },
  {
   "cell_type": "code",
   "execution_count": 11,
   "id": "69dc096a",
   "metadata": {},
   "outputs": [
    {
     "name": "stdout",
     "output_type": "stream",
     "text": [
      "0.8500000000000001\n"
     ]
    }
   ],
   "source": [
    "number_of_toes = [8.5, 9.5, 10, 9]\n",
    "input = number_of_toes[0]\n",
    "pred = first_neural_network(input, weight)\n",
    "print(pred)"
   ]
  },
  {
   "cell_type": "code",
   "execution_count": 7,
   "id": "5f461b0a",
   "metadata": {},
   "outputs": [],
   "source": [
    "# Basic vector operations\n",
    "\n",
    "def elementwise_multiplication(vec_a, vec_b):\n",
    "    assert(len(vec_a) == len(vec_b))\n",
    "    vec_mult = []\n",
    "    for i in range(len(vec_a)):\n",
    "        vec_mult.append(vec_a[i] * vec_b[i])\n",
    "    return vec_mult\n",
    "\n",
    "def elementwise_addition(vec_a, vec_b):\n",
    "    assert(len(vec_a) == len(vec_b))\n",
    "    vec_sum = []\n",
    "    for i in range(len(vec_a)):\n",
    "        vec_sum.append(vec_a[i] + vec_b[i])\n",
    "    return vec_sum\n",
    "\n",
    "def vector_sum(vec_a):\n",
    "    return sum(vec_a)\n",
    "\n",
    "def vector_average(vec_a):\n",
    "    return sum(vec_a) / len(vec_a)\n",
    "\n",
    "def scalar_product(vec_a, vec_b):\n",
    "    return vector_sum(elementwise_multiplication(vec_a, vec_b))"
   ]
  },
  {
   "cell_type": "code",
   "execution_count": 8,
   "id": "ec8cc0c9",
   "metadata": {},
   "outputs": [
    {
     "name": "stdout",
     "output_type": "stream",
     "text": [
      "32\n"
     ]
    }
   ],
   "source": [
    "print(scalar_product([1, 2, 3], [4, 5, 6]))"
   ]
  },
  {
   "cell_type": "code",
   "execution_count": 12,
   "id": "211a56f5",
   "metadata": {},
   "outputs": [
    {
     "name": "stdout",
     "output_type": "stream",
     "text": [
      "0.9800000000000001\n"
     ]
    }
   ],
   "source": [
    "# The neural network with 3 weights, using numpy\n",
    "\n",
    "import numpy as np\n",
    "weights = np.array([0.1, 0.2, 0])\n",
    "def second_neural_network(input, weights):\n",
    "    pred = input.dot(weights) # dot product = scalar product\n",
    "    return pred\n",
    "\n",
    "toes = np.array([8.5, 9.5, 9.9, 9.0]) # number of toes\n",
    "wlrec = np.array([0.65, 0.8, 0.8, 0.9]) # winn/loss\n",
    "nfans = np.array([1.2, 1.3, 0.5, 1.0]) # number of fans\n",
    "\n",
    "input = np.array([toes[0], wlrec[0], nfans[0]]) # the first game results used\n",
    "pred = second_neural_network(input, weights)\n",
    "print(pred)"
   ]
  },
  {
   "cell_type": "code",
   "execution_count": 14,
   "id": "84b9eef0",
   "metadata": {},
   "outputs": [
    {
     "name": "stdout",
     "output_type": "stream",
     "text": [
      "0.30250000000000005\n"
     ]
    }
   ],
   "source": [
    "# Error is quadratic\n",
    "\n",
    "knob_weight = 0.5\n",
    "input = 0.5\n",
    "goal_pred = 0.8\n",
    "\n",
    "pred = input * knob_weight\n",
    "\n",
    "error = (pred - goal_pred) ** 2\n",
    "\n",
    "print(error)"
   ]
  },
  {
   "cell_type": "code",
   "execution_count": 53,
   "id": "1bc034e8",
   "metadata": {},
   "outputs": [
    {
     "name": "stdout",
     "output_type": "stream",
     "text": [
      "Error: 1.0799505792475652e-27. Prediction: 0.7999999999999672\n"
     ]
    }
   ],
   "source": [
    "weight = 0.5\n",
    "input = 0.5\n",
    "goal_prediction = 0.8\n",
    "\n",
    "step_amount = 0.001\n",
    "\n",
    "for iteration in range(1101):\n",
    "    prediction = input * weight\n",
    "    error = (prediction - goal_prediction) ** 2\n",
    "    \n",
    "    up_prediction = input * (weight + step_amount)\n",
    "    up_error = (goal_prediction - up_prediction) ** 2\n",
    "    \n",
    "    down_prediction = input * (weight - step_amount)\n",
    "    down_error = (goal_prediction - down_prediction) ** 2\n",
    "\n",
    "    if(down_error < up_error):\n",
    "        weight -= step_amount\n",
    "    \n",
    "    if(down_error > up_error):\n",
    "        weight += step_amount\n",
    "\n",
    "print(f\"Error: {error}. Prediction: {prediction}\")"
   ]
  },
  {
   "cell_type": "code",
   "execution_count": 13,
   "id": "37177791",
   "metadata": {},
   "outputs": [
    {
     "data": {
      "text/html": [
       "Tracking run with wandb version 0.13.10"
      ],
      "text/plain": [
       "<IPython.core.display.HTML object>"
      ]
     },
     "metadata": {},
     "output_type": "display_data"
    },
    {
     "data": {
      "text/html": [
       "Run data is saved locally in <code>/Users/paolo/Desktop/Отаку/Machine Learning/machine-learning-scripts/grokking_dl/wandb/run-20230227_201211-ypb44gws</code>"
      ],
      "text/plain": [
       "<IPython.core.display.HTML object>"
      ]
     },
     "metadata": {},
     "output_type": "display_data"
    },
    {
     "data": {
      "text/html": [
       "Syncing run <strong><a href='https://wandb.ai/epaolinos/my-little-nn/runs/ypb44gws' target=\"_blank\">fresh-water-2</a></strong> to <a href='https://wandb.ai/epaolinos/my-little-nn' target=\"_blank\">Weights & Biases</a> (<a href='https://wandb.me/run' target=\"_blank\">docs</a>)<br/>"
      ],
      "text/plain": [
       "<IPython.core.display.HTML object>"
      ]
     },
     "metadata": {},
     "output_type": "display_data"
    },
    {
     "data": {
      "text/html": [
       " View project at <a href='https://wandb.ai/epaolinos/my-little-nn' target=\"_blank\">https://wandb.ai/epaolinos/my-little-nn</a>"
      ],
      "text/plain": [
       "<IPython.core.display.HTML object>"
      ]
     },
     "metadata": {},
     "output_type": "display_data"
    },
    {
     "data": {
      "text/html": [
       " View run at <a href='https://wandb.ai/epaolinos/my-little-nn/runs/ypb44gws' target=\"_blank\">https://wandb.ai/epaolinos/my-little-nn/runs/ypb44gws</a>"
      ],
      "text/plain": [
       "<IPython.core.display.HTML object>"
      ]
     },
     "metadata": {},
     "output_type": "display_data"
    },
    {
     "data": {
      "text/html": [
       "<button onClick=\"this.nextSibling.style.display='block';this.style.display='none';\">Display W&B run</button><iframe src='https://wandb.ai/epaolinos/my-little-nn/runs/ypb44gws?jupyter=true' style='border:none;width:100%;height:420px;display:none;'></iframe>"
      ],
      "text/plain": [
       "<wandb.sdk.wandb_run.Run at 0x7ff3a1fa9750>"
      ]
     },
     "execution_count": 13,
     "metadata": {},
     "output_type": "execute_result"
    }
   ],
   "source": [
    "import wandb"
   ]
  },
  {
   "cell_type": "code",
   "execution_count": 24,
   "id": "20fbf21b",
   "metadata": {},
   "outputs": [
    {
     "data": {
      "text/html": [
       "Tracking run with wandb version 0.13.10"
      ],
      "text/plain": [
       "<IPython.core.display.HTML object>"
      ]
     },
     "metadata": {},
     "output_type": "display_data"
    },
    {
     "data": {
      "text/html": [
       "Run data is saved locally in <code>/Users/paolo/Desktop/Отаку/Machine Learning/machine-learning-scripts/grokking_dl/wandb/run-20230303_145709-evp7vyxb</code>"
      ],
      "text/plain": [
       "<IPython.core.display.HTML object>"
      ]
     },
     "metadata": {},
     "output_type": "display_data"
    },
    {
     "data": {
      "text/html": [
       "Syncing run <strong><a href='https://wandb.ai/epaolinos/my-little-nn/runs/evp7vyxb' target=\"_blank\">neat-river-12</a></strong> to <a href='https://wandb.ai/epaolinos/my-little-nn' target=\"_blank\">Weights & Biases</a> (<a href='https://wandb.me/run' target=\"_blank\">docs</a>)<br/>"
      ],
      "text/plain": [
       "<IPython.core.display.HTML object>"
      ]
     },
     "metadata": {},
     "output_type": "display_data"
    },
    {
     "data": {
      "text/html": [
       " View project at <a href='https://wandb.ai/epaolinos/my-little-nn' target=\"_blank\">https://wandb.ai/epaolinos/my-little-nn</a>"
      ],
      "text/plain": [
       "<IPython.core.display.HTML object>"
      ]
     },
     "metadata": {},
     "output_type": "display_data"
    },
    {
     "data": {
      "text/html": [
       " View run at <a href='https://wandb.ai/epaolinos/my-little-nn/runs/evp7vyxb' target=\"_blank\">https://wandb.ai/epaolinos/my-little-nn/runs/evp7vyxb</a>"
      ],
      "text/plain": [
       "<IPython.core.display.HTML object>"
      ]
     },
     "metadata": {},
     "output_type": "display_data"
    },
    {
     "data": {
      "text/html": [
       "Waiting for W&B process to finish... <strong style=\"color:green\">(success).</strong>"
      ],
      "text/plain": [
       "<IPython.core.display.HTML object>"
      ]
     },
     "metadata": {},
     "output_type": "display_data"
    },
    {
     "data": {
      "application/vnd.jupyter.widget-view+json": {
       "model_id": "0f9fa01ecf1a403caca759747631ee75",
       "version_major": 2,
       "version_minor": 0
      },
      "text/plain": [
       "VBox(children=(Label(value='0.001 MB of 0.001 MB uploaded (0.000 MB deduped)\\r'), FloatProgress(value=1.0, max…"
      ]
     },
     "metadata": {},
     "output_type": "display_data"
    },
    {
     "data": {
      "text/html": [
       "<style>\n",
       "    table.wandb td:nth-child(1) { padding: 0 10px; text-align: left ; width: auto;} td:nth-child(2) {text-align: left ; width: 100%}\n",
       "    .wandb-row { display: flex; flex-direction: row; flex-wrap: wrap; justify-content: flex-start; width: 100% }\n",
       "    .wandb-col { display: flex; flex-direction: column; flex-basis: 100%; flex: 1; padding: 10px; }\n",
       "    </style>\n",
       "<div class=\"wandb-row\"><div class=\"wandb-col\"><h3>Run history:</h3><br/><table class=\"wandb\"><tr><td>loss</td><td>█▇▅▅▄▃▃▂▂▂▂▂▁▁▁▁▁▁▁▁▁▁▁▁▁▁▁▁▁▁▁▁▁▁▁▁▁▁▁▁</td></tr></table><br/></div><div class=\"wandb-col\"><h3>Run summary:</h3><br/><table class=\"wandb\"><tr><td>loss</td><td>0.00013</td></tr></table><br/></div></div>"
      ],
      "text/plain": [
       "<IPython.core.display.HTML object>"
      ]
     },
     "metadata": {},
     "output_type": "display_data"
    },
    {
     "data": {
      "text/html": [
       " View run <strong style=\"color:#cdcd00\">neat-river-12</strong> at: <a href='https://wandb.ai/epaolinos/my-little-nn/runs/evp7vyxb' target=\"_blank\">https://wandb.ai/epaolinos/my-little-nn/runs/evp7vyxb</a><br/>Synced 5 W&B file(s), 0 media file(s), 0 artifact file(s) and 0 other file(s)"
      ],
      "text/plain": [
       "<IPython.core.display.HTML object>"
      ]
     },
     "metadata": {},
     "output_type": "display_data"
    },
    {
     "data": {
      "text/html": [
       "Find logs at: <code>./wandb/run-20230303_145709-evp7vyxb/logs</code>"
      ],
      "text/plain": [
       "<IPython.core.display.HTML object>"
      ]
     },
     "metadata": {},
     "output_type": "display_data"
    }
   ],
   "source": [
    "wandb.init(\n",
    "    project=\"my-little-nn\",\n",
    "    \n",
    "    config={\n",
    "    \"learning_rate\": 0.3,\n",
    "    \"architecture\": \"CNN\",\n",
    "    \"dataset\": \"Some number\",\n",
    "    \"epochs\": 400,\n",
    "    }\n",
    ")\n",
    "\n",
    "input = 0.2\n",
    "weight = 0.5\n",
    "goal = -1.3\n",
    "learning_rate = 0.3\n",
    "\n",
    "for i in range(400):\n",
    "    prediction = input * weight\n",
    "    delta = prediction - goal\n",
    "    error = delta ** 2\n",
    "    # chain rule: derivative by weight is 2 * delta * input, 2 is not essential, we can change learning rate\n",
    "    derivative = delta * input\n",
    "    \n",
    "    wandb.log({\"loss\": error})\n",
    "    \n",
    "    weight -= learning_rate * derivative\n",
    "\n",
    "wandb.finish()"
   ]
  }
 ],
 "metadata": {
  "kernelspec": {
   "display_name": "Python 3 (ipykernel)",
   "language": "python",
   "name": "python3"
  },
  "language_info": {
   "codemirror_mode": {
    "name": "ipython",
    "version": 3
   },
   "file_extension": ".py",
   "mimetype": "text/x-python",
   "name": "python",
   "nbconvert_exporter": "python",
   "pygments_lexer": "ipython3",
   "version": "3.10.9"
  }
 },
 "nbformat": 4,
 "nbformat_minor": 5
}
